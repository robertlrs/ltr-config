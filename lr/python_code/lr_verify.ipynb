{
 "cells": [
  {
   "cell_type": "code",
   "execution_count": 1,
   "metadata": {},
   "outputs": [],
   "source": [
    "from pyspark import SparkConf, SparkContext\n",
    "\n",
    "from pyspark.sql import SparkSession\n",
    "import math\n"
   ]
  },
  {
   "cell_type": "code",
   "execution_count": 3,
   "metadata": {},
   "outputs": [
    {
     "name": "stdout",
     "output_type": "stream",
     "text": [
      "598475 6288694 160278 503872\n"
     ]
    }
   ],
   "source": [
    "def main(f, mobiled, model_dict, x0):\n",
    "    path_sample = \"\" % f\n",
    "\n",
    "    sample = spark.sparkContext.textFile(path_sample).collect()\n",
    "    \n",
    "    tp = 0 \n",
    "    tn = 0 \n",
    "    fn = 0\n",
    "    fp = 0\n",
    "    for line in sample:\n",
    "        ln = line.replace(\"(\", \"\")\n",
    "        ln2 = ln.replace(\")\", \"\")\n",
    "        lnn = ln2.split(\",\")\n",
    "        score = x0\n",
    "        for idx, item in enumerate(lnn):\n",
    "            if idx == 0:\n",
    "                label = int(item)\n",
    "            else:\n",
    "                if name.startswith(\"uid_ouid\"):\n",
    "                    continue\n",
    "                name = str(item.split(\"=\")[0])\n",
    "                term = str(item.split(\"=\")[1])\n",
    "                weight = model_dict.get(name+value, 0)\n",
    "                score += weight\n",
    "                \n",
    "        prob = 1.0 / (1+math.exp(-score))\n",
    "        if prob > 0.5:\n",
    "            prob_label = 1\n",
    "        else:\n",
    "            prob_label = 0\n",
    "        if label == 1 and prob_label == 1:\n",
    "            tp += 1\n",
    "        elif label == 0 and prob_label == 0:\n",
    "            tn += 1\n",
    "        elif label == 1 and prob_label == 0:\n",
    "            fn += 1\n",
    "        elif label == 0 and prob_label == 1:\n",
    "            fp += 1\n",
    "    return tp, tn, fn, fp\n",
    "\n",
    "        \n",
    "    \n",
    "if __name__ == \"__main__\":\n",
    "    from datetime import datetime, date, timedelta\n",
    "    spark = SparkSession.builder.appName(\"lr_sample_train\").getOrCreate()\n",
    "    mobiled = spark.sql(\"select mobiletype from songwt.mobileid\").collect()\n",
    "    mobiled_list = [list(mobile)[0] for mobile in mobiled]\n",
    "    \n",
    "    path_model = \"/user/hdfs/swt/lr/output_0.1/best-model-text/best_model\"\n",
    "    \n",
    "    model = spark.sparkContext.textFile(path_model).collect()\n",
    "\n",
    "    model_dict = dict()\n",
    "    x0 = 0\n",
    "    for line in model:\n",
    "        line = line.strip()\n",
    "        ln = line.split(\"\\t\")\n",
    "        name = ln[0]\n",
    "        value = ln[1]\n",
    "        model_dict[name+value] = float(ln[2])\n",
    "        if name == \"(INTERCEPT)\":\n",
    "            x0 = float(ln[2])\n",
    "\n",
    "    tp_label=0\n",
    "    tn_label =0\n",
    "    fp_label=0\n",
    "    fn_label=0\n",
    "    for i in range(117, 55, -1):\n",
    "        da = (date.today() + timedelta(days = -i)).strftime(\"%Y-%m-%d\")\n",
    "        f = \"sample_%s\" % str(da)\n",
    "        \n",
    "        tp, tn, fn, fp = main(f,mobiled_list, model_dict, x0)\n",
    "        tp_label += tp\n",
    "        tn_label += tn\n",
    "        fp_label += fp\n",
    "        fn_label += fn\n",
    "    print(tp_label, tn_label, fp_label, fn_label)\n",
    "        \n",
    "        \n",
    "    \n",
    "    "
   ]
  },
  {
   "cell_type": "code",
   "execution_count": null,
   "metadata": {},
   "outputs": [],
   "source": []
  }
 ],
 "metadata": {
  "kernelspec": {
   "display_name": "Python 3",
   "language": "python",
   "name": "python3"
  },
  "language_info": {
   "codemirror_mode": {
    "name": "ipython",
    "version": 3
   },
   "file_extension": ".py",
   "mimetype": "text/x-python",
   "name": "python",
   "nbconvert_exporter": "python",
   "pygments_lexer": "ipython3",
   "version": "3.6.5"
  }
 },
 "nbformat": 4,
 "nbformat_minor": 2
}

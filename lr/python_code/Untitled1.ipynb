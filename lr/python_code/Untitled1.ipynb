{
 "cells": [
  {
   "cell_type": "code",
   "execution_count": 1,
   "metadata": {},
   "outputs": [],
   "source": [
    "from pyspark import SparkConf, SparkContext\n",
    "\n",
    "from pyspark.sql import SparkSession"
   ]
  },
  {
   "cell_type": "code",
   "execution_count": 8,
   "metadata": {},
   "outputs": [],
   "source": [
    "def main(f):\n",
    "    spark = SparkSession.builder.appName(\"lr_sample_train\").getOrCreate()\n",
    "    path = \"/user/yarn/swt/sample2/%s\" % f\n",
    "    sample = spark.sparkContext.textFile(path)\n",
    "\n",
    "    lines = sample.collect()\n",
    "    for line in lines:\n",
    "        ln = line.replace(\"(\", \"\")\n",
    "        ln2 = ln.replace(\")\", \"\")\n",
    "        lnn = ln2.split(\",\")\n",
    "        for idx, item in enumerate(lnn):\n",
    "            if idx == 1 and not item.isdigit():\n",
    "                print(item)\n",
    "if __name__ == \"__main__\":\n",
    "    main(\"sample_2018-10-04\")\n",
    "                "
   ]
  },
  {
   "cell_type": "code",
   "execution_count": null,
   "metadata": {},
   "outputs": [],
   "source": []
  },
  {
   "cell_type": "code",
   "execution_count": null,
   "metadata": {},
   "outputs": [],
   "source": []
  }
 ],
 "metadata": {
  "kernelspec": {
   "display_name": "Python 3",
   "language": "python",
   "name": "python3"
  },
  "language_info": {
   "codemirror_mode": {
    "name": "ipython",
    "version": 3
   },
   "file_extension": ".py",
   "mimetype": "text/x-python",
   "name": "python",
   "nbconvert_exporter": "python",
   "pygments_lexer": "ipython3",
   "version": "3.6.5"
  }
 },
 "nbformat": 4,
 "nbformat_minor": 2
}
